{
 "cells": [
  {
   "cell_type": "markdown",
   "id": "35bb54ed",
   "metadata": {},
   "source": [
    "**Cidadania e segurança no trânsito**\n",
    "\n",
    "Tornar o trânsito mais seguro é responsabilidade de todos, de pedestres a motoristas. Ainda mais se forem de veículos corporativos, pois além de passarem bastante tempo nas ruas, seu comportamento influencia diretamente na lucratividade da empresa e na imagem que ela tem junto à sociedade.\n",
    "\n",
    "Isso sem contar os gastos diretos com consertos e indenizações que podem surgir de acidentes. E não é só isso: a própria saúde do trabalhador pode ser comprometida em abusos no trânsito.\n",
    "\n",
    "Por esses motivos, é importante que os condutores cuidem para que suas ações não causem acidentes.\n",
    "\n",
    "Fonte: BOAS PRÁTICAS para condutores: dicas para um trânsito mais seguro. Unidas Frotas. 15 fev. 2018. Disponível em:  https://bit.ly/3KiHZYx.\n",
    "\n",
    "Neste contexto, você foi contratado por uma escola de condutores para elaborar um programa que mede o grau de responsabilidade dos condutores já habilitados no trânsito.\n",
    "\n",
    "Escreva um algoritmo para verificar se o usuário é bom condutor, ele deve conter cinco (5) perguntas e conforme o usuário responder, deve-se partir para a próxima. Quando o usuário acertar a resposta, deve-se partir para a próxima pergunta e ser exibida a mensagem: “Acertou! Vamos para a próxima pergunta”. Se errar, deve ser exibida a mensagem “Errou, pesquise o assunto! ”.\n",
    "\n",
    "Se o usuário acertar mais que três perguntas, deve ser exibida a mensagem “Parabéns! Você conhece as leis de trânsito!”\n",
    "\n",
    "A resposta do usuário deve ser sim ou não.\n",
    "\n",
    "     1 – Pergunta: Se o farol está vermelho, você pode avançar com o carro? (sim ou não).\n",
    "\n",
    "     2 – Pergunta: Se o farol está amarelo, você deve acelerar o carro para passar? (sim ou não).\n",
    "\n",
    "     3 – Pergunta: Se o farol está verde e não há nenhum pedestre atravessando, você pode avançar? (sim ou não).\n",
    "\n",
    "     4 – Pergunta: Se o farol está verde e há pedestre atravessando, você pode avançar? (sim ou não).\n",
    "\n",
    "     5 – Pergunta: Se o farol está vermelho, você deve parar o carro? (sim ou não).\n",
    "\n",
    "Considerando o estudo de caso acima e o algoritmo para sua solução, responda:\n",
    "\n",
    "    1-   Exemplifique os comandos de entrada e saída de dados utilizados no algoritmo\n",
    "\n",
    "    2-  Qual estrutura de controle foi utilizada no algoritmo? Explique a sua função e exemplifique.\n",
    "\n",
    "    3-  Qual trecho do algoritmo está calculando o número de acertos do usuário."
   ]
  },
  {
   "cell_type": "code",
   "execution_count": 28,
   "id": "7428223e",
   "metadata": {},
   "outputs": [
    {
     "name": "stdin",
     "output_type": "stream",
     "text": [
      "Qual seu nome?  Saulo\n"
     ]
    },
    {
     "name": "stdout",
     "output_type": "stream",
     "text": [
      "Olá Saulo, eu sou o TrafficBot e irei testar seu conhecimento como condutor!\n",
      "VAMOS COMEÇAR!!!\n"
     ]
    }
   ],
   "source": [
    "# Se apresentando para o condutor\n",
    "def ola():\n",
    "    bot = 'TrafficBot'\n",
    "    seu_nome = input(\"Qual seu nome? \")\n",
    "    print(f'Olá {seu_nome}, eu sou o {bot} e irei testar seu conhecimento como condutor!')\n",
    "    return('VAMOS COMEÇAR!!!')\n",
    "\n",
    "print(ola())\n"
   ]
  },
  {
   "cell_type": "code",
   "execution_count": 29,
   "id": "f7813623",
   "metadata": {},
   "outputs": [
    {
     "name": "stdin",
     "output_type": "stream",
     "text": [
      "1 – Pergunta: Se o farol está vermelho, você pode avançar com o carro? Digite 0 para Não ou Digite 1 para Sim! 0\n"
     ]
    },
    {
     "name": "stdout",
     "output_type": "stream",
     "text": [
      "Acertou! Vamos para a próxima pergunta\n"
     ]
    },
    {
     "name": "stdin",
     "output_type": "stream",
     "text": [
      "2 – Pergunta: Se o farol está amarelo, você deve acelerar o carro para passar? Digite 0 para Não ou Digite 1 para Sim! 0\n"
     ]
    },
    {
     "name": "stdout",
     "output_type": "stream",
     "text": [
      "Acertou! Vamos para a próxima pergunta\n"
     ]
    },
    {
     "name": "stdin",
     "output_type": "stream",
     "text": [
      "3 – Pergunta: Se o farol está verde e não há nenhum pedestre atravessando, você pode avançar? Digite 0 para Não ou Digite 1 para Sim! 1\n"
     ]
    },
    {
     "name": "stdout",
     "output_type": "stream",
     "text": [
      "Acertou! Vamos para a próxima pergunta\n"
     ]
    },
    {
     "name": "stdin",
     "output_type": "stream",
     "text": [
      "4 – Pergunta: Se o farol está verde e há pedestre atravessando, você pode avançar? Digite 0 para Não ou Digite 1 para Sim! 0\n"
     ]
    },
    {
     "name": "stdout",
     "output_type": "stream",
     "text": [
      "Acertou! Vamos para a próxima pergunta\n"
     ]
    },
    {
     "name": "stdin",
     "output_type": "stream",
     "text": [
      "5 – Pergunta: Se o farol está vermelho, você deve parar o carro? Digite 0 para Não ou Digite 1 para Sim! 1\n"
     ]
    },
    {
     "name": "stdout",
     "output_type": "stream",
     "text": [
      "Acertou!\n",
      "Parabéns! Você conhece as leis de trânsito!\n"
     ]
    }
   ],
   "source": [
    "def perguntas():\n",
    "    soma = 0\n",
    "    resposta_1 = int(input('1 – Pergunta: Se o farol está vermelho, você pode avançar com o carro? Digite 0 para Não ou Digite 1 para Sim!'))\n",
    "    if resposta_1 == 0:\n",
    "        resposta_1 = 1\n",
    "        soma = soma + resposta_1\n",
    "        print('Acertou! Vamos para a próxima pergunta')\n",
    "    elif resposta_1 == 1:\n",
    "        print('Errou, pesquise o assunto!')\n",
    "    resposta_2 = int(input('2 – Pergunta: Se o farol está amarelo, você deve acelerar o carro para passar? Digite 0 para Não ou Digite 1 para Sim!'))\n",
    "    if resposta_2 == 0:\n",
    "        resposta_2 = 1\n",
    "        soma = soma + resposta_2\n",
    "        print('Acertou! Vamos para a próxima pergunta')\n",
    "    elif resposta_2 == 1:\n",
    "        print('Errou, pesquise o assunto!')\n",
    "    resposta_3 = int(input('3 – Pergunta: Se o farol está verde e não há nenhum pedestre atravessando, você pode avançar? Digite 0 para Não ou Digite 1 para Sim!'))\n",
    "    if resposta_3 == 1:\n",
    "        resposta_3 = 1\n",
    "        soma = soma + resposta_3\n",
    "        print('Acertou! Vamos para a próxima pergunta')\n",
    "    elif resposta_3 == 0:\n",
    "        print('Errou, pesquise o assunto!')\n",
    "    resposta_4 = int(input('4 – Pergunta: Se o farol está verde e há pedestre atravessando, você pode avançar? Digite 0 para Não ou Digite 1 para Sim!'))\n",
    "    if resposta_4 == 0:\n",
    "        resposta_4 = 4\n",
    "        soma = soma + resposta_4\n",
    "        print('Acertou! Vamos para a próxima pergunta')\n",
    "    elif resposta_4 == 1:\n",
    "        print('Errou, pesquise o assunto!')\n",
    "    resposta_5 = int(input('5 – Pergunta: Se o farol está vermelho, você deve parar o carro? Digite 0 para Não ou Digite 1 para Sim!'))\n",
    "    if resposta_5 == 1:\n",
    "        resposta_5 = 1\n",
    "        soma = soma + resposta_5\n",
    "        print('Acertou!')\n",
    "    elif resposta_5 == 0:\n",
    "        print('Errou, pesquise o assunto!')\n",
    "    if soma > 3:\n",
    "        return('PARABÉNS VOCÊ CONHECE AS LEIS DE TRÂNSITO!')\n",
    "    else:\n",
    "        return('VOCÊ PRECISA ESTUDAR MAIS SOBRE LEIS DE TRÂNSITO!')\n",
    "        \n",
    "print(perguntas())\n",
    "   "
   ]
  }
 ],
 "metadata": {
  "kernelspec": {
   "display_name": "Python 3 (ipykernel)",
   "language": "python",
   "name": "python3"
  },
  "language_info": {
   "codemirror_mode": {
    "name": "ipython",
    "version": 3
   },
   "file_extension": ".py",
   "mimetype": "text/x-python",
   "name": "python",
   "nbconvert_exporter": "python",
   "pygments_lexer": "ipython3",
   "version": "3.9.7"
  }
 },
 "nbformat": 4,
 "nbformat_minor": 5
}
